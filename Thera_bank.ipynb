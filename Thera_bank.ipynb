{
  "nbformat": 4,
  "nbformat_minor": 0,
  "metadata": {
    "colab": {
      "name": "Thera_bank.ipynb",
      "provenance": [],
      "collapsed_sections": [],
      "authorship_tag": "ABX9TyM/FVpBZ3nv/4Hn2DRK2fSl",
      "include_colab_link": true
    },
    "kernelspec": {
      "name": "python3",
      "display_name": "Python 3"
    }
  },
  "cells": [
    {
      "cell_type": "markdown",
      "metadata": {
        "id": "view-in-github",
        "colab_type": "text"
      },
      "source": [
        "<a href=\"https://colab.research.google.com/github/mansi05-t/Thera-Bank-Case/blob/master/Thera_bank.ipynb\" target=\"_parent\"><img src=\"https://colab.research.google.com/assets/colab-badge.svg\" alt=\"Open In Colab\"/></a>"
      ]
    },
    {
      "cell_type": "markdown",
      "metadata": {
        "id": "0k6v0q2VBu6A",
        "colab_type": "text"
      },
      "source": [
        "# Thera Bank Case"
      ]
    },
    {
      "cell_type": "markdown",
      "metadata": {
        "id": "d4osVh8ABGag",
        "colab_type": "text"
      },
      "source": [
        "# Problem Statement\n",
        "**Context:**\n",
        "\n",
        "This case is about a bank (Thera Bank) whose management wants to explore ways of converting its liability customers to personal loan customers (while retaining them as depositors). A campaign that the bank ran last year for liability customers showed a healthy conversion rate of over 9% success. This has encouraged the retail marketing department to devise campaigns with better target marketing to increase the success ratio with a minimal budget.\n",
        "\n",
        "**Objective:**\n",
        "\n",
        "The classification goal is to predict the likelihood of a liability customer buying personal loans."
      ]
    },
    {
      "cell_type": "code",
      "metadata": {
        "id": "hwJoq7QTA4Fu",
        "colab_type": "code",
        "colab": {}
      },
      "source": [
        "#importing Libraries\n",
        "import pandas as pd\n",
        "import numpy as np\n",
        "import seaborn as sns\n",
        "import matplotlib.pyplot as plt\n",
        "%matplotlib inline\n",
        "import warnings\n",
        "warnings.filterwarnings(\"ignore\")"
      ],
      "execution_count": null,
      "outputs": []
    },
    {
      "cell_type": "code",
      "metadata": {
        "id": "ShTzCO3LO0Sn",
        "colab_type": "code",
        "colab": {}
      },
      "source": [
        "from google.colab import files\n",
        "files = files.upload()"
      ],
      "execution_count": null,
      "outputs": []
    },
    {
      "cell_type": "markdown",
      "metadata": {
        "id": "_cp0XHhleXLf",
        "colab_type": "text"
      },
      "source": [
        "This is how our data looks like.."
      ]
    },
    {
      "cell_type": "code",
      "metadata": {
        "id": "S0bXKh4dOzQx",
        "colab_type": "code",
        "colab": {
          "base_uri": "https://localhost:8080/",
          "height": 195
        },
        "outputId": "9326a97d-db86-4228-a3b6-14cb1f55b404"
      },
      "source": [
        "df = pd.read_csv('Bank_Personal_Loan_Modelling.csv')\n",
        "df.head()"
      ],
      "execution_count": null,
      "outputs": [
        {
          "output_type": "execute_result",
          "data": {
            "text/html": [
              "<div>\n",
              "<style scoped>\n",
              "    .dataframe tbody tr th:only-of-type {\n",
              "        vertical-align: middle;\n",
              "    }\n",
              "\n",
              "    .dataframe tbody tr th {\n",
              "        vertical-align: top;\n",
              "    }\n",
              "\n",
              "    .dataframe thead th {\n",
              "        text-align: right;\n",
              "    }\n",
              "</style>\n",
              "<table border=\"1\" class=\"dataframe\">\n",
              "  <thead>\n",
              "    <tr style=\"text-align: right;\">\n",
              "      <th></th>\n",
              "      <th>ID</th>\n",
              "      <th>Age</th>\n",
              "      <th>Experience</th>\n",
              "      <th>Income</th>\n",
              "      <th>ZIP Code</th>\n",
              "      <th>Family</th>\n",
              "      <th>CCAvg</th>\n",
              "      <th>Education</th>\n",
              "      <th>Mortgage</th>\n",
              "      <th>Personal Loan</th>\n",
              "      <th>Securities Account</th>\n",
              "      <th>CD Account</th>\n",
              "      <th>Online</th>\n",
              "      <th>CreditCard</th>\n",
              "    </tr>\n",
              "  </thead>\n",
              "  <tbody>\n",
              "    <tr>\n",
              "      <th>0</th>\n",
              "      <td>1</td>\n",
              "      <td>25</td>\n",
              "      <td>1</td>\n",
              "      <td>49</td>\n",
              "      <td>91107</td>\n",
              "      <td>4</td>\n",
              "      <td>1.6</td>\n",
              "      <td>1</td>\n",
              "      <td>0</td>\n",
              "      <td>0</td>\n",
              "      <td>1</td>\n",
              "      <td>0</td>\n",
              "      <td>0</td>\n",
              "      <td>0</td>\n",
              "    </tr>\n",
              "    <tr>\n",
              "      <th>1</th>\n",
              "      <td>2</td>\n",
              "      <td>45</td>\n",
              "      <td>19</td>\n",
              "      <td>34</td>\n",
              "      <td>90089</td>\n",
              "      <td>3</td>\n",
              "      <td>1.5</td>\n",
              "      <td>1</td>\n",
              "      <td>0</td>\n",
              "      <td>0</td>\n",
              "      <td>1</td>\n",
              "      <td>0</td>\n",
              "      <td>0</td>\n",
              "      <td>0</td>\n",
              "    </tr>\n",
              "    <tr>\n",
              "      <th>2</th>\n",
              "      <td>3</td>\n",
              "      <td>39</td>\n",
              "      <td>15</td>\n",
              "      <td>11</td>\n",
              "      <td>94720</td>\n",
              "      <td>1</td>\n",
              "      <td>1.0</td>\n",
              "      <td>1</td>\n",
              "      <td>0</td>\n",
              "      <td>0</td>\n",
              "      <td>0</td>\n",
              "      <td>0</td>\n",
              "      <td>0</td>\n",
              "      <td>0</td>\n",
              "    </tr>\n",
              "    <tr>\n",
              "      <th>3</th>\n",
              "      <td>4</td>\n",
              "      <td>35</td>\n",
              "      <td>9</td>\n",
              "      <td>100</td>\n",
              "      <td>94112</td>\n",
              "      <td>1</td>\n",
              "      <td>2.7</td>\n",
              "      <td>2</td>\n",
              "      <td>0</td>\n",
              "      <td>0</td>\n",
              "      <td>0</td>\n",
              "      <td>0</td>\n",
              "      <td>0</td>\n",
              "      <td>0</td>\n",
              "    </tr>\n",
              "    <tr>\n",
              "      <th>4</th>\n",
              "      <td>5</td>\n",
              "      <td>35</td>\n",
              "      <td>8</td>\n",
              "      <td>45</td>\n",
              "      <td>91330</td>\n",
              "      <td>4</td>\n",
              "      <td>1.0</td>\n",
              "      <td>2</td>\n",
              "      <td>0</td>\n",
              "      <td>0</td>\n",
              "      <td>0</td>\n",
              "      <td>0</td>\n",
              "      <td>0</td>\n",
              "      <td>1</td>\n",
              "    </tr>\n",
              "  </tbody>\n",
              "</table>\n",
              "</div>"
            ],
            "text/plain": [
              "   ID  Age  Experience  ...  CD Account  Online  CreditCard\n",
              "0   1   25           1  ...           0       0           0\n",
              "1   2   45          19  ...           0       0           0\n",
              "2   3   39          15  ...           0       0           0\n",
              "3   4   35           9  ...           0       0           0\n",
              "4   5   35           8  ...           0       0           1\n",
              "\n",
              "[5 rows x 14 columns]"
            ]
          },
          "metadata": {
            "tags": []
          },
          "execution_count": 3
        }
      ]
    },
    {
      "cell_type": "markdown",
      "metadata": {
        "id": "CktNM8Lilc8Z",
        "colab_type": "text"
      },
      "source": [
        "# Information on the features or attributes\n",
        "\n",
        "**The attributes can be divided accordingly :**\n",
        "\n",
        "\n",
        "**The binary category have five variables as below:**\n",
        "\n",
        "* Personal Loan - Did this customer accept the personal loan offered in the last campaign? **This is our target variable**\n",
        "\n",
        "* Securities Account - Does the customer have a securities account with the bank?\n",
        "\n",
        "* CD Account - Does the customer have a certificate of deposit (CD) account with the bank?\n",
        "\n",
        "* Online - Does the customer use internet banking facilities?\n",
        "\n",
        "* Credit Card - Does the customer use a credit card issued by UniversalBank?\n",
        "\n",
        "\n",
        "**Interval variables are as below:**\n",
        "\n",
        "* Age - Age of the customer\n",
        "\n",
        "* Experience - Years of experience\n",
        "\n",
        "* Income - Annual income in dollars\n",
        "\n",
        "* CCAvg - Average credit card spending\n",
        "\n",
        "* Mortage - Value of House Mortgage\n",
        "\n",
        "\n",
        "**Ordinal Categorical Variables are:**\n",
        "\n",
        "* Family - Family size of the customer\n",
        "\n",
        "* Education - education level of the customer\n",
        "\n",
        "**The nominal variable is :**\n",
        "\n",
        "* ID\n",
        "\n",
        "* Zip Code"
      ]
    },
    {
      "cell_type": "markdown",
      "metadata": {
        "id": "Cvc9IyD2fm4B",
        "colab_type": "text"
      },
      "source": [
        "**General information of our data is given below:**"
      ]
    },
    {
      "cell_type": "code",
      "metadata": {
        "id": "FAEiJnj6QdGN",
        "colab_type": "code",
        "colab": {
          "base_uri": "https://localhost:8080/",
          "height": 370
        },
        "outputId": "a4168f3e-5754-43be-84aa-a6553f750b25"
      },
      "source": [
        "df.info()"
      ],
      "execution_count": null,
      "outputs": [
        {
          "output_type": "stream",
          "text": [
            "<class 'pandas.core.frame.DataFrame'>\n",
            "RangeIndex: 5000 entries, 0 to 4999\n",
            "Data columns (total 14 columns):\n",
            " #   Column              Non-Null Count  Dtype  \n",
            "---  ------              --------------  -----  \n",
            " 0   ID                  5000 non-null   int64  \n",
            " 1   Age                 5000 non-null   int64  \n",
            " 2   Experience          5000 non-null   int64  \n",
            " 3   Income              5000 non-null   int64  \n",
            " 4   ZIP Code            5000 non-null   int64  \n",
            " 5   Family              5000 non-null   int64  \n",
            " 6   CCAvg               5000 non-null   float64\n",
            " 7   Education           5000 non-null   int64  \n",
            " 8   Mortgage            5000 non-null   int64  \n",
            " 9   Personal Loan       5000 non-null   int64  \n",
            " 10  Securities Account  5000 non-null   int64  \n",
            " 11  CD Account          5000 non-null   int64  \n",
            " 12  Online              5000 non-null   int64  \n",
            " 13  CreditCard          5000 non-null   int64  \n",
            "dtypes: float64(1), int64(13)\n",
            "memory usage: 547.0 KB\n"
          ],
          "name": "stdout"
        }
      ]
    },
    {
      "cell_type": "code",
      "metadata": {
        "id": "fOVRK-L-Qv_N",
        "colab_type": "code",
        "colab": {
          "base_uri": "https://localhost:8080/",
          "height": 269
        },
        "outputId": "8ef18a69-9a69-493f-adbb-bc74cc4aa345"
      },
      "source": [
        "df.isnull().sum()"
      ],
      "execution_count": null,
      "outputs": [
        {
          "output_type": "execute_result",
          "data": {
            "text/plain": [
              "ID                    0\n",
              "Age                   0\n",
              "Experience            0\n",
              "Income                0\n",
              "ZIP Code              0\n",
              "Family                0\n",
              "CCAvg                 0\n",
              "Education             0\n",
              "Mortgage              0\n",
              "Personal Loan         0\n",
              "Securities Account    0\n",
              "CD Account            0\n",
              "Online                0\n",
              "CreditCard            0\n",
              "dtype: int64"
            ]
          },
          "metadata": {
            "tags": []
          },
          "execution_count": 15
        }
      ]
    },
    {
      "cell_type": "markdown",
      "metadata": {
        "id": "sZEz8UCvf2RL",
        "colab_type": "text"
      },
      "source": [
        "There are no null values in our data."
      ]
    },
    {
      "cell_type": "code",
      "metadata": {
        "id": "fXvJ5ZmoQ8FO",
        "colab_type": "code",
        "colab": {
          "base_uri": "https://localhost:8080/",
          "height": 34
        },
        "outputId": "da96270e-8a2b-4906-b217-036d97b2367e"
      },
      "source": [
        "df.shape"
      ],
      "execution_count": null,
      "outputs": [
        {
          "output_type": "execute_result",
          "data": {
            "text/plain": [
              "(5000, 14)"
            ]
          },
          "metadata": {
            "tags": []
          },
          "execution_count": 13
        }
      ]
    },
    {
      "cell_type": "markdown",
      "metadata": {
        "id": "tNodP2zbRFTW",
        "colab_type": "text"
      },
      "source": [
        "There are 5000 rows and 14 features in our dataset."
      ]
    },
    {
      "cell_type": "markdown",
      "metadata": {
        "id": "zaIUsa7JQmI-",
        "colab_type": "text"
      },
      "source": [
        "**To get basic statistical information from the dataset we can use below pandas function.**"
      ]
    },
    {
      "cell_type": "code",
      "metadata": {
        "id": "0YH33MkOQml5",
        "colab_type": "code",
        "colab": {
          "base_uri": "https://localhost:8080/",
          "height": 462
        },
        "outputId": "c275903c-c91d-4fb3-a2ea-ebae02d59ca4"
      },
      "source": [
        "df.describe(include = \"all\").T"
      ],
      "execution_count": null,
      "outputs": [
        {
          "output_type": "execute_result",
          "data": {
            "text/html": [
              "<div>\n",
              "<style scoped>\n",
              "    .dataframe tbody tr th:only-of-type {\n",
              "        vertical-align: middle;\n",
              "    }\n",
              "\n",
              "    .dataframe tbody tr th {\n",
              "        vertical-align: top;\n",
              "    }\n",
              "\n",
              "    .dataframe thead th {\n",
              "        text-align: right;\n",
              "    }\n",
              "</style>\n",
              "<table border=\"1\" class=\"dataframe\">\n",
              "  <thead>\n",
              "    <tr style=\"text-align: right;\">\n",
              "      <th></th>\n",
              "      <th>count</th>\n",
              "      <th>mean</th>\n",
              "      <th>std</th>\n",
              "      <th>min</th>\n",
              "      <th>25%</th>\n",
              "      <th>50%</th>\n",
              "      <th>75%</th>\n",
              "      <th>max</th>\n",
              "    </tr>\n",
              "  </thead>\n",
              "  <tbody>\n",
              "    <tr>\n",
              "      <th>ID</th>\n",
              "      <td>5000.0</td>\n",
              "      <td>2500.500000</td>\n",
              "      <td>1443.520003</td>\n",
              "      <td>1.0</td>\n",
              "      <td>1250.75</td>\n",
              "      <td>2500.5</td>\n",
              "      <td>3750.25</td>\n",
              "      <td>5000.0</td>\n",
              "    </tr>\n",
              "    <tr>\n",
              "      <th>Age</th>\n",
              "      <td>5000.0</td>\n",
              "      <td>45.338400</td>\n",
              "      <td>11.463166</td>\n",
              "      <td>23.0</td>\n",
              "      <td>35.00</td>\n",
              "      <td>45.0</td>\n",
              "      <td>55.00</td>\n",
              "      <td>67.0</td>\n",
              "    </tr>\n",
              "    <tr>\n",
              "      <th>Experience</th>\n",
              "      <td>5000.0</td>\n",
              "      <td>20.104600</td>\n",
              "      <td>11.467954</td>\n",
              "      <td>-3.0</td>\n",
              "      <td>10.00</td>\n",
              "      <td>20.0</td>\n",
              "      <td>30.00</td>\n",
              "      <td>43.0</td>\n",
              "    </tr>\n",
              "    <tr>\n",
              "      <th>Income</th>\n",
              "      <td>5000.0</td>\n",
              "      <td>73.774200</td>\n",
              "      <td>46.033729</td>\n",
              "      <td>8.0</td>\n",
              "      <td>39.00</td>\n",
              "      <td>64.0</td>\n",
              "      <td>98.00</td>\n",
              "      <td>224.0</td>\n",
              "    </tr>\n",
              "    <tr>\n",
              "      <th>ZIP Code</th>\n",
              "      <td>5000.0</td>\n",
              "      <td>93152.503000</td>\n",
              "      <td>2121.852197</td>\n",
              "      <td>9307.0</td>\n",
              "      <td>91911.00</td>\n",
              "      <td>93437.0</td>\n",
              "      <td>94608.00</td>\n",
              "      <td>96651.0</td>\n",
              "    </tr>\n",
              "    <tr>\n",
              "      <th>Family</th>\n",
              "      <td>5000.0</td>\n",
              "      <td>2.396400</td>\n",
              "      <td>1.147663</td>\n",
              "      <td>1.0</td>\n",
              "      <td>1.00</td>\n",
              "      <td>2.0</td>\n",
              "      <td>3.00</td>\n",
              "      <td>4.0</td>\n",
              "    </tr>\n",
              "    <tr>\n",
              "      <th>CCAvg</th>\n",
              "      <td>5000.0</td>\n",
              "      <td>1.937938</td>\n",
              "      <td>1.747659</td>\n",
              "      <td>0.0</td>\n",
              "      <td>0.70</td>\n",
              "      <td>1.5</td>\n",
              "      <td>2.50</td>\n",
              "      <td>10.0</td>\n",
              "    </tr>\n",
              "    <tr>\n",
              "      <th>Education</th>\n",
              "      <td>5000.0</td>\n",
              "      <td>1.881000</td>\n",
              "      <td>0.839869</td>\n",
              "      <td>1.0</td>\n",
              "      <td>1.00</td>\n",
              "      <td>2.0</td>\n",
              "      <td>3.00</td>\n",
              "      <td>3.0</td>\n",
              "    </tr>\n",
              "    <tr>\n",
              "      <th>Mortgage</th>\n",
              "      <td>5000.0</td>\n",
              "      <td>56.498800</td>\n",
              "      <td>101.713802</td>\n",
              "      <td>0.0</td>\n",
              "      <td>0.00</td>\n",
              "      <td>0.0</td>\n",
              "      <td>101.00</td>\n",
              "      <td>635.0</td>\n",
              "    </tr>\n",
              "    <tr>\n",
              "      <th>Personal Loan</th>\n",
              "      <td>5000.0</td>\n",
              "      <td>0.096000</td>\n",
              "      <td>0.294621</td>\n",
              "      <td>0.0</td>\n",
              "      <td>0.00</td>\n",
              "      <td>0.0</td>\n",
              "      <td>0.00</td>\n",
              "      <td>1.0</td>\n",
              "    </tr>\n",
              "    <tr>\n",
              "      <th>Securities Account</th>\n",
              "      <td>5000.0</td>\n",
              "      <td>0.104400</td>\n",
              "      <td>0.305809</td>\n",
              "      <td>0.0</td>\n",
              "      <td>0.00</td>\n",
              "      <td>0.0</td>\n",
              "      <td>0.00</td>\n",
              "      <td>1.0</td>\n",
              "    </tr>\n",
              "    <tr>\n",
              "      <th>CD Account</th>\n",
              "      <td>5000.0</td>\n",
              "      <td>0.060400</td>\n",
              "      <td>0.238250</td>\n",
              "      <td>0.0</td>\n",
              "      <td>0.00</td>\n",
              "      <td>0.0</td>\n",
              "      <td>0.00</td>\n",
              "      <td>1.0</td>\n",
              "    </tr>\n",
              "    <tr>\n",
              "      <th>Online</th>\n",
              "      <td>5000.0</td>\n",
              "      <td>0.596800</td>\n",
              "      <td>0.490589</td>\n",
              "      <td>0.0</td>\n",
              "      <td>0.00</td>\n",
              "      <td>1.0</td>\n",
              "      <td>1.00</td>\n",
              "      <td>1.0</td>\n",
              "    </tr>\n",
              "    <tr>\n",
              "      <th>CreditCard</th>\n",
              "      <td>5000.0</td>\n",
              "      <td>0.294000</td>\n",
              "      <td>0.455637</td>\n",
              "      <td>0.0</td>\n",
              "      <td>0.00</td>\n",
              "      <td>0.0</td>\n",
              "      <td>1.00</td>\n",
              "      <td>1.0</td>\n",
              "    </tr>\n",
              "  </tbody>\n",
              "</table>\n",
              "</div>"
            ],
            "text/plain": [
              "                     count          mean  ...       75%      max\n",
              "ID                  5000.0   2500.500000  ...   3750.25   5000.0\n",
              "Age                 5000.0     45.338400  ...     55.00     67.0\n",
              "Experience          5000.0     20.104600  ...     30.00     43.0\n",
              "Income              5000.0     73.774200  ...     98.00    224.0\n",
              "ZIP Code            5000.0  93152.503000  ...  94608.00  96651.0\n",
              "Family              5000.0      2.396400  ...      3.00      4.0\n",
              "CCAvg               5000.0      1.937938  ...      2.50     10.0\n",
              "Education           5000.0      1.881000  ...      3.00      3.0\n",
              "Mortgage            5000.0     56.498800  ...    101.00    635.0\n",
              "Personal Loan       5000.0      0.096000  ...      0.00      1.0\n",
              "Securities Account  5000.0      0.104400  ...      0.00      1.0\n",
              "CD Account          5000.0      0.060400  ...      0.00      1.0\n",
              "Online              5000.0      0.596800  ...      1.00      1.0\n",
              "CreditCard          5000.0      0.294000  ...      1.00      1.0\n",
              "\n",
              "[14 rows x 8 columns]"
            ]
          },
          "metadata": {
            "tags": []
          },
          "execution_count": 16
        }
      ]
    },
    {
      "cell_type": "markdown",
      "metadata": {
        "id": "SXmkWBdFX9M4",
        "colab_type": "text"
      },
      "source": [
        "Age ranges from 23 to 67.\n",
        "\n",
        "Minimum income is 8,000 dollars, while the maximum income is 224,000 dollars.\n",
        "\n",
        "We can see that minimum experience is -3, which is unexpected.Let's check..\n",
        "\n"
      ]
    },
    {
      "cell_type": "code",
      "metadata": {
        "id": "RnDvEXO5gzZT",
        "colab_type": "code",
        "colab": {
          "base_uri": "https://localhost:8080/",
          "height": 343
        },
        "outputId": "d1a92ca4-d1b0-4d0c-b8be-167a065939be"
      },
      "source": [
        "# Customers with negative experience\n",
        "df[df['Experience'] < 0].head(10)"
      ],
      "execution_count": null,
      "outputs": [
        {
          "output_type": "execute_result",
          "data": {
            "text/html": [
              "<div>\n",
              "<style scoped>\n",
              "    .dataframe tbody tr th:only-of-type {\n",
              "        vertical-align: middle;\n",
              "    }\n",
              "\n",
              "    .dataframe tbody tr th {\n",
              "        vertical-align: top;\n",
              "    }\n",
              "\n",
              "    .dataframe thead th {\n",
              "        text-align: right;\n",
              "    }\n",
              "</style>\n",
              "<table border=\"1\" class=\"dataframe\">\n",
              "  <thead>\n",
              "    <tr style=\"text-align: right;\">\n",
              "      <th></th>\n",
              "      <th>ID</th>\n",
              "      <th>Age</th>\n",
              "      <th>Experience</th>\n",
              "      <th>Income</th>\n",
              "      <th>ZIP Code</th>\n",
              "      <th>Family</th>\n",
              "      <th>CCAvg</th>\n",
              "      <th>Education</th>\n",
              "      <th>Mortgage</th>\n",
              "      <th>Personal Loan</th>\n",
              "      <th>Securities Account</th>\n",
              "      <th>CD Account</th>\n",
              "      <th>Online</th>\n",
              "      <th>CreditCard</th>\n",
              "    </tr>\n",
              "  </thead>\n",
              "  <tbody>\n",
              "    <tr>\n",
              "      <th>89</th>\n",
              "      <td>90</td>\n",
              "      <td>25</td>\n",
              "      <td>-1</td>\n",
              "      <td>113</td>\n",
              "      <td>94303</td>\n",
              "      <td>4</td>\n",
              "      <td>2.30</td>\n",
              "      <td>3</td>\n",
              "      <td>0</td>\n",
              "      <td>0</td>\n",
              "      <td>0</td>\n",
              "      <td>0</td>\n",
              "      <td>0</td>\n",
              "      <td>1</td>\n",
              "    </tr>\n",
              "    <tr>\n",
              "      <th>226</th>\n",
              "      <td>227</td>\n",
              "      <td>24</td>\n",
              "      <td>-1</td>\n",
              "      <td>39</td>\n",
              "      <td>94085</td>\n",
              "      <td>2</td>\n",
              "      <td>1.70</td>\n",
              "      <td>2</td>\n",
              "      <td>0</td>\n",
              "      <td>0</td>\n",
              "      <td>0</td>\n",
              "      <td>0</td>\n",
              "      <td>0</td>\n",
              "      <td>0</td>\n",
              "    </tr>\n",
              "    <tr>\n",
              "      <th>315</th>\n",
              "      <td>316</td>\n",
              "      <td>24</td>\n",
              "      <td>-2</td>\n",
              "      <td>51</td>\n",
              "      <td>90630</td>\n",
              "      <td>3</td>\n",
              "      <td>0.30</td>\n",
              "      <td>3</td>\n",
              "      <td>0</td>\n",
              "      <td>0</td>\n",
              "      <td>0</td>\n",
              "      <td>0</td>\n",
              "      <td>1</td>\n",
              "      <td>0</td>\n",
              "    </tr>\n",
              "    <tr>\n",
              "      <th>451</th>\n",
              "      <td>452</td>\n",
              "      <td>28</td>\n",
              "      <td>-2</td>\n",
              "      <td>48</td>\n",
              "      <td>94132</td>\n",
              "      <td>2</td>\n",
              "      <td>1.75</td>\n",
              "      <td>3</td>\n",
              "      <td>89</td>\n",
              "      <td>0</td>\n",
              "      <td>0</td>\n",
              "      <td>0</td>\n",
              "      <td>1</td>\n",
              "      <td>0</td>\n",
              "    </tr>\n",
              "    <tr>\n",
              "      <th>524</th>\n",
              "      <td>525</td>\n",
              "      <td>24</td>\n",
              "      <td>-1</td>\n",
              "      <td>75</td>\n",
              "      <td>93014</td>\n",
              "      <td>4</td>\n",
              "      <td>0.20</td>\n",
              "      <td>1</td>\n",
              "      <td>0</td>\n",
              "      <td>0</td>\n",
              "      <td>0</td>\n",
              "      <td>0</td>\n",
              "      <td>1</td>\n",
              "      <td>0</td>\n",
              "    </tr>\n",
              "    <tr>\n",
              "      <th>536</th>\n",
              "      <td>537</td>\n",
              "      <td>25</td>\n",
              "      <td>-1</td>\n",
              "      <td>43</td>\n",
              "      <td>92173</td>\n",
              "      <td>3</td>\n",
              "      <td>2.40</td>\n",
              "      <td>2</td>\n",
              "      <td>176</td>\n",
              "      <td>0</td>\n",
              "      <td>0</td>\n",
              "      <td>0</td>\n",
              "      <td>1</td>\n",
              "      <td>0</td>\n",
              "    </tr>\n",
              "    <tr>\n",
              "      <th>540</th>\n",
              "      <td>541</td>\n",
              "      <td>25</td>\n",
              "      <td>-1</td>\n",
              "      <td>109</td>\n",
              "      <td>94010</td>\n",
              "      <td>4</td>\n",
              "      <td>2.30</td>\n",
              "      <td>3</td>\n",
              "      <td>314</td>\n",
              "      <td>0</td>\n",
              "      <td>0</td>\n",
              "      <td>0</td>\n",
              "      <td>1</td>\n",
              "      <td>0</td>\n",
              "    </tr>\n",
              "    <tr>\n",
              "      <th>576</th>\n",
              "      <td>577</td>\n",
              "      <td>25</td>\n",
              "      <td>-1</td>\n",
              "      <td>48</td>\n",
              "      <td>92870</td>\n",
              "      <td>3</td>\n",
              "      <td>0.30</td>\n",
              "      <td>3</td>\n",
              "      <td>0</td>\n",
              "      <td>0</td>\n",
              "      <td>0</td>\n",
              "      <td>0</td>\n",
              "      <td>0</td>\n",
              "      <td>1</td>\n",
              "    </tr>\n",
              "    <tr>\n",
              "      <th>583</th>\n",
              "      <td>584</td>\n",
              "      <td>24</td>\n",
              "      <td>-1</td>\n",
              "      <td>38</td>\n",
              "      <td>95045</td>\n",
              "      <td>2</td>\n",
              "      <td>1.70</td>\n",
              "      <td>2</td>\n",
              "      <td>0</td>\n",
              "      <td>0</td>\n",
              "      <td>0</td>\n",
              "      <td>0</td>\n",
              "      <td>1</td>\n",
              "      <td>0</td>\n",
              "    </tr>\n",
              "    <tr>\n",
              "      <th>597</th>\n",
              "      <td>598</td>\n",
              "      <td>24</td>\n",
              "      <td>-2</td>\n",
              "      <td>125</td>\n",
              "      <td>92835</td>\n",
              "      <td>2</td>\n",
              "      <td>7.20</td>\n",
              "      <td>1</td>\n",
              "      <td>0</td>\n",
              "      <td>0</td>\n",
              "      <td>1</td>\n",
              "      <td>0</td>\n",
              "      <td>0</td>\n",
              "      <td>1</td>\n",
              "    </tr>\n",
              "  </tbody>\n",
              "</table>\n",
              "</div>"
            ],
            "text/plain": [
              "      ID  Age  Experience  ...  CD Account  Online  CreditCard\n",
              "89    90   25          -1  ...           0       0           1\n",
              "226  227   24          -1  ...           0       0           0\n",
              "315  316   24          -2  ...           0       1           0\n",
              "451  452   28          -2  ...           0       1           0\n",
              "524  525   24          -1  ...           0       1           0\n",
              "536  537   25          -1  ...           0       1           0\n",
              "540  541   25          -1  ...           0       1           0\n",
              "576  577   25          -1  ...           0       0           1\n",
              "583  584   24          -1  ...           0       1           0\n",
              "597  598   24          -2  ...           0       0           1\n",
              "\n",
              "[10 rows x 14 columns]"
            ]
          },
          "metadata": {
            "tags": []
          },
          "execution_count": 17
        }
      ]
    },
    {
      "cell_type": "markdown",
      "metadata": {
        "id": "6Zb0BkkmzsFa",
        "colab_type": "text"
      },
      "source": [
        "The Age group with negative values in 'Experience' is small(most customers are in their early 20's).\n"
      ]
    },
    {
      "cell_type": "code",
      "metadata": {
        "id": "RRgLvkbJZO_9",
        "colab_type": "code",
        "colab": {
          "base_uri": "https://localhost:8080/",
          "height": 34
        },
        "outputId": "ce926e85-a4a5-4548-e361-b861c27c9a83"
      },
      "source": [
        "#Total no. of customers with negative experience\n",
        "(df['Experience'] < 0).sum()"
      ],
      "execution_count": null,
      "outputs": [
        {
          "output_type": "execute_result",
          "data": {
            "text/plain": [
              "52"
            ]
          },
          "metadata": {
            "tags": []
          },
          "execution_count": 120
        }
      ]
    },
    {
      "cell_type": "markdown",
      "metadata": {
        "id": "q7DOrJUlazuL",
        "colab_type": "text"
      },
      "source": [
        "There are 52 values where Experience is negative and it can affect our annalysis.\n",
        "\n",
        "We can replace all these values with it's mean or median. But from the above table we can see that mean is around 20 and so is the age for all these 52 customers. \n",
        "\n",
        "So, converting negative values to mean will skew the data. Hence, it's better to remove such values.\n"
      ]
    },
    {
      "cell_type": "code",
      "metadata": {
        "id": "fS63nSXTlRcX",
        "colab_type": "code",
        "colab": {}
      },
      "source": [
        "df1 = df[df['Experience'] > 0]"
      ],
      "execution_count": null,
      "outputs": []
    },
    {
      "cell_type": "code",
      "metadata": {
        "id": "kK4WZCFgm4ZI",
        "colab_type": "code",
        "colab": {
          "base_uri": "https://localhost:8080/",
          "height": 462
        },
        "outputId": "2cf8856f-0c10-4cdd-fa0b-de95d780b849"
      },
      "source": [
        "df1.describe().T"
      ],
      "execution_count": null,
      "outputs": [
        {
          "output_type": "execute_result",
          "data": {
            "text/html": [
              "<div>\n",
              "<style scoped>\n",
              "    .dataframe tbody tr th:only-of-type {\n",
              "        vertical-align: middle;\n",
              "    }\n",
              "\n",
              "    .dataframe tbody tr th {\n",
              "        vertical-align: top;\n",
              "    }\n",
              "\n",
              "    .dataframe thead th {\n",
              "        text-align: right;\n",
              "    }\n",
              "</style>\n",
              "<table border=\"1\" class=\"dataframe\">\n",
              "  <thead>\n",
              "    <tr style=\"text-align: right;\">\n",
              "      <th></th>\n",
              "      <th>count</th>\n",
              "      <th>mean</th>\n",
              "      <th>std</th>\n",
              "      <th>min</th>\n",
              "      <th>25%</th>\n",
              "      <th>50%</th>\n",
              "      <th>75%</th>\n",
              "      <th>max</th>\n",
              "    </tr>\n",
              "  </thead>\n",
              "  <tbody>\n",
              "    <tr>\n",
              "      <th>ID</th>\n",
              "      <td>4882.0</td>\n",
              "      <td>2496.172061</td>\n",
              "      <td>1439.377900</td>\n",
              "      <td>1.0</td>\n",
              "      <td>1254.25</td>\n",
              "      <td>2490.5</td>\n",
              "      <td>3735.75</td>\n",
              "      <td>5000.0</td>\n",
              "    </tr>\n",
              "    <tr>\n",
              "      <th>Age</th>\n",
              "      <td>4882.0</td>\n",
              "      <td>45.826506</td>\n",
              "      <td>11.155088</td>\n",
              "      <td>25.0</td>\n",
              "      <td>36.00</td>\n",
              "      <td>46.0</td>\n",
              "      <td>55.00</td>\n",
              "      <td>67.0</td>\n",
              "    </tr>\n",
              "    <tr>\n",
              "      <th>Experience</th>\n",
              "      <td>4882.0</td>\n",
              "      <td>20.605899</td>\n",
              "      <td>11.136704</td>\n",
              "      <td>1.0</td>\n",
              "      <td>11.00</td>\n",
              "      <td>21.0</td>\n",
              "      <td>30.00</td>\n",
              "      <td>43.0</td>\n",
              "    </tr>\n",
              "    <tr>\n",
              "      <th>Income</th>\n",
              "      <td>4882.0</td>\n",
              "      <td>73.870750</td>\n",
              "      <td>46.112752</td>\n",
              "      <td>8.0</td>\n",
              "      <td>39.00</td>\n",
              "      <td>64.0</td>\n",
              "      <td>98.00</td>\n",
              "      <td>224.0</td>\n",
              "    </tr>\n",
              "    <tr>\n",
              "      <th>ZIP Code</th>\n",
              "      <td>4882.0</td>\n",
              "      <td>93150.227366</td>\n",
              "      <td>2130.612121</td>\n",
              "      <td>9307.0</td>\n",
              "      <td>91910.25</td>\n",
              "      <td>93437.0</td>\n",
              "      <td>94608.00</td>\n",
              "      <td>96651.0</td>\n",
              "    </tr>\n",
              "    <tr>\n",
              "      <th>Family</th>\n",
              "      <td>4882.0</td>\n",
              "      <td>2.386112</td>\n",
              "      <td>1.148222</td>\n",
              "      <td>1.0</td>\n",
              "      <td>1.00</td>\n",
              "      <td>2.0</td>\n",
              "      <td>3.00</td>\n",
              "      <td>4.0</td>\n",
              "    </tr>\n",
              "    <tr>\n",
              "      <th>CCAvg</th>\n",
              "      <td>4882.0</td>\n",
              "      <td>1.935412</td>\n",
              "      <td>1.745065</td>\n",
              "      <td>0.0</td>\n",
              "      <td>0.70</td>\n",
              "      <td>1.5</td>\n",
              "      <td>2.60</td>\n",
              "      <td>10.0</td>\n",
              "    </tr>\n",
              "    <tr>\n",
              "      <th>Education</th>\n",
              "      <td>4882.0</td>\n",
              "      <td>1.874846</td>\n",
              "      <td>0.839329</td>\n",
              "      <td>1.0</td>\n",
              "      <td>1.00</td>\n",
              "      <td>2.0</td>\n",
              "      <td>3.00</td>\n",
              "      <td>3.0</td>\n",
              "    </tr>\n",
              "    <tr>\n",
              "      <th>Mortgage</th>\n",
              "      <td>4882.0</td>\n",
              "      <td>56.844326</td>\n",
              "      <td>102.009136</td>\n",
              "      <td>0.0</td>\n",
              "      <td>0.00</td>\n",
              "      <td>0.0</td>\n",
              "      <td>101.75</td>\n",
              "      <td>635.0</td>\n",
              "    </tr>\n",
              "    <tr>\n",
              "      <th>Personal Loan</th>\n",
              "      <td>4882.0</td>\n",
              "      <td>0.096887</td>\n",
              "      <td>0.295833</td>\n",
              "      <td>0.0</td>\n",
              "      <td>0.00</td>\n",
              "      <td>0.0</td>\n",
              "      <td>0.00</td>\n",
              "      <td>1.0</td>\n",
              "    </tr>\n",
              "    <tr>\n",
              "      <th>Securities Account</th>\n",
              "      <td>4882.0</td>\n",
              "      <td>0.104056</td>\n",
              "      <td>0.305364</td>\n",
              "      <td>0.0</td>\n",
              "      <td>0.00</td>\n",
              "      <td>0.0</td>\n",
              "      <td>0.00</td>\n",
              "      <td>1.0</td>\n",
              "    </tr>\n",
              "    <tr>\n",
              "      <th>CD Account</th>\n",
              "      <td>4882.0</td>\n",
              "      <td>0.061450</td>\n",
              "      <td>0.240179</td>\n",
              "      <td>0.0</td>\n",
              "      <td>0.00</td>\n",
              "      <td>0.0</td>\n",
              "      <td>0.00</td>\n",
              "      <td>1.0</td>\n",
              "    </tr>\n",
              "    <tr>\n",
              "      <th>Online</th>\n",
              "      <td>4882.0</td>\n",
              "      <td>0.598730</td>\n",
              "      <td>0.490206</td>\n",
              "      <td>0.0</td>\n",
              "      <td>0.00</td>\n",
              "      <td>1.0</td>\n",
              "      <td>1.00</td>\n",
              "      <td>1.0</td>\n",
              "    </tr>\n",
              "    <tr>\n",
              "      <th>CreditCard</th>\n",
              "      <td>4882.0</td>\n",
              "      <td>0.294961</td>\n",
              "      <td>0.456072</td>\n",
              "      <td>0.0</td>\n",
              "      <td>0.00</td>\n",
              "      <td>0.0</td>\n",
              "      <td>1.00</td>\n",
              "      <td>1.0</td>\n",
              "    </tr>\n",
              "  </tbody>\n",
              "</table>\n",
              "</div>"
            ],
            "text/plain": [
              "                     count          mean  ...       75%      max\n",
              "ID                  4882.0   2496.172061  ...   3735.75   5000.0\n",
              "Age                 4882.0     45.826506  ...     55.00     67.0\n",
              "Experience          4882.0     20.605899  ...     30.00     43.0\n",
              "Income              4882.0     73.870750  ...     98.00    224.0\n",
              "ZIP Code            4882.0  93150.227366  ...  94608.00  96651.0\n",
              "Family              4882.0      2.386112  ...      3.00      4.0\n",
              "CCAvg               4882.0      1.935412  ...      2.60     10.0\n",
              "Education           4882.0      1.874846  ...      3.00      3.0\n",
              "Mortgage            4882.0     56.844326  ...    101.75    635.0\n",
              "Personal Loan       4882.0      0.096887  ...      0.00      1.0\n",
              "Securities Account  4882.0      0.104056  ...      0.00      1.0\n",
              "CD Account          4882.0      0.061450  ...      0.00      1.0\n",
              "Online              4882.0      0.598730  ...      1.00      1.0\n",
              "CreditCard          4882.0      0.294961  ...      1.00      1.0\n",
              "\n",
              "[14 rows x 8 columns]"
            ]
          },
          "metadata": {
            "tags": []
          },
          "execution_count": 288
        }
      ]
    },
    {
      "cell_type": "markdown",
      "metadata": {
        "id": "mzKQ036BnYwc",
        "colab_type": "text"
      },
      "source": [
        "Now, We can see that the minimum experience is 1.\n",
        "\n",
        "The minimum age has also been changed to 25."
      ]
    },
    {
      "cell_type": "markdown",
      "metadata": {
        "id": "qtg3q8oHjwkM",
        "colab_type": "text"
      },
      "source": [
        "# Some Visualizations"
      ]
    },
    {
      "cell_type": "markdown",
      "metadata": {
        "id": "cG0CfpXQ2ZJV",
        "colab_type": "text"
      },
      "source": [
        "**Influence of Securities account on Personal Loan**"
      ]
    },
    {
      "cell_type": "code",
      "metadata": {
        "id": "7gLG3bKXTItM",
        "colab_type": "code",
        "colab": {
          "base_uri": "https://localhost:8080/",
          "height": 285
        },
        "outputId": "b5b4294d-b73b-402a-bcc1-7462b1258c92"
      },
      "source": [
        "sns.countplot(x=\"Securities Account\", data=df1,hue=\"Personal Loan\")\n",
        "plt.show()"
      ],
      "execution_count": null,
      "outputs": [
        {
          "output_type": "display_data",
          "data": {
            "image/png": "[encoded data removed]",
            "text/plain": [
              "<Figure size 432x288 with 1 Axes>"
            ]
          },
          "metadata": {
            "tags": [],
            "needs_background": "light"
          }
        }
      ]
    },
    {
      "cell_type": "markdown",
      "metadata": {
        "id": "kseItzpMTUnq",
        "colab_type": "text"
      },
      "source": [
        "Majority of customers who does not have loan have securities account\n"
      ]
    },
    {
      "cell_type": "markdown",
      "metadata": {
        "id": "UMX1rEr41LpU",
        "colab_type": "text"
      },
      "source": [
        "**Distributions of Personal Loan among group of Education**"
      ]
    },
    {
      "cell_type": "code",
      "metadata": {
        "id": "H24kKte3LeTH",
        "colab_type": "code",
        "colab": {
          "base_uri": "https://localhost:8080/",
          "height": 279
        },
        "outputId": "a17e5a2c-64a0-4aea-bd54-6c5c5c90ad6c"
      },
      "source": [
        "sns.countplot(x='Education',data=df1,hue='Personal Loan',palette='Set1')\n",
        "plt.show()"
      ],
      "execution_count": null,
      "outputs": [
        {
          "output_type": "display_data",
          "data": {
            "image/png": "[encoded data removed]",
            "text/plain": [
              "<Figure size 432x288 with 1 Axes>"
            ]
          },
          "metadata": {
            "tags": [],
            "needs_background": "light"
          }
        }
      ]
    },
    {
      "cell_type": "markdown",
      "metadata": {
        "id": "6zQVWN0MLpS_",
        "colab_type": "text"
      },
      "source": [
        "Education level does not have much impact on personal loan. But it seems customers with Education level 2 and 3 are more likely to take loan."
      ]
    },
    {
      "cell_type": "markdown",
      "metadata": {
        "id": "c-XghXOw1UfO",
        "colab_type": "text"
      },
      "source": [
        "**Distributions of personal loans among groups of CD Account**"
      ]
    },
    {
      "cell_type": "code",
      "metadata": {
        "id": "yRTq9F4bkxtg",
        "colab_type": "code",
        "colab": {
          "base_uri": "https://localhost:8080/",
          "height": 279
        },
        "outputId": "f9889e4c-2d26-4692-8810-c92f55515792"
      },
      "source": [
        "sns.countplot(x='CD Account',data=df1,hue='Personal Loan')\n",
        "plt.show()"
      ],
      "execution_count": null,
      "outputs": [
        {
          "output_type": "display_data",
          "data": {
            "image/png": "[encoded data removed]",
            "text/plain": [
              "<Figure size 432x288 with 1 Axes>"
            ]
          },
          "metadata": {
            "tags": [],
            "needs_background": "light"
          }
        }
      ]
    },
    {
      "cell_type": "markdown",
      "metadata": {
        "id": "3LtVbT2Sk4_i",
        "colab_type": "text"
      },
      "source": [
        "Customers who does not have CD account , does not have loan as well. This seems to be majority. But almost all customers who has CD account has loan as well"
      ]
    },
    {
      "cell_type": "markdown",
      "metadata": {
        "id": "TC92jcG_cDvN",
        "colab_type": "text"
      },
      "source": [
        "# Impact of Income and Education on Personal Loan"
      ]
    },
    {
      "cell_type": "code",
      "metadata": {
        "id": "dbp2IE4bnr46",
        "colab_type": "code",
        "colab": {
          "base_uri": "https://localhost:8080/",
          "height": 279
        },
        "outputId": "10ec1834-d149-4608-a50b-6acfc4fc4c4f"
      },
      "source": [
        "sns.swarmplot(x='Education',y='Income',hue='Personal Loan',data=df1, palette= 'husl')\n",
        "plt.show()"
      ],
      "execution_count": null,
      "outputs": [
        {
          "output_type": "display_data",
          "data": {
            "image/png": "[encoded data removed]",
            "text/plain": [
              "<Figure size 432x288 with 1 Axes>"
            ]
          },
          "metadata": {
            "tags": [],
            "needs_background": "light"
          }
        }
      ]
    },
    {
      "cell_type": "markdown",
      "metadata": {
        "id": "rkg8bZW0JAL8",
        "colab_type": "text"
      },
      "source": [
        "Customers with higher income are tend to take loans.\n",
        "\n",
        "Customers whose education level is 1 is having more income.\n",
        "\n",
        "Customers with Education level 2 and 3 plus higher income has taken more loan."
      ]
    },
    {
      "cell_type": "markdown",
      "metadata": {
        "id": "cvJtNXLSzQe-",
        "colab_type": "text"
      },
      "source": [
        "# Influence of Personal loan  in terms of Family and Mortgage"
      ]
    },
    {
      "cell_type": "code",
      "metadata": {
        "id": "XMQkEwePTuAB",
        "colab_type": "code",
        "colab": {
          "base_uri": "https://localhost:8080/",
          "height": 279
        },
        "outputId": "54b98de9-5dd2-41ad-ec2f-67e5951a3892"
      },
      "source": [
        "sns.barplot(x=\"Family\", y='Mortgage', hue=\"Personal Loan\", data=df1, palette=\"Set2\")\n",
        "plt.show()"
      ],
      "execution_count": null,
      "outputs": [
        {
          "output_type": "display_data",
          "data": {
            "image/png": "[encoded data removed]",
            "text/plain": [
              "<Figure size 432x288 with 1 Axes>"
            ]
          },
          "metadata": {
            "tags": [],
            "needs_background": "light"
          }
        }
      ]
    },
    {
      "cell_type": "markdown",
      "metadata": {
        "id": "A4ezutFKUHSi",
        "colab_type": "text"
      },
      "source": [
        "Family of 3 and 4 has higher mortgage and are more likely to take loan."
      ]
    },
    {
      "cell_type": "markdown",
      "metadata": {
        "id": "3aqanNENljaX",
        "colab_type": "text"
      },
      "source": [
        "# Analysis of the numerical values with a categorical Personal Loan"
      ]
    },
    {
      "cell_type": "code",
      "metadata": {
        "id": "ZjVbyBphXU7L",
        "colab_type": "code",
        "colab": {
          "base_uri": "https://localhost:8080/",
          "height": 519
        },
        "outputId": "6a831166-c476-4338-af7c-c57abac995f5"
      },
      "source": [
        "numerical = ['Age' , 'Experience' ,'Family' ,'Income' , 'CCAvg' , 'Mortgage']\n",
        "fig, ax = plt.subplots(2, 3, figsize=(12,8))\n",
        "for var, subplot in zip(numerical, ax.flatten()):\n",
        "    sns.boxplot(x='Personal Loan', y=var, data=df1, ax=subplot)\n",
        "plt.show()\n",
        "plt.clf()"
      ],
      "execution_count": null,
      "outputs": [
        {
          "output_type": "display_data",
          "data": {
            "image/png": "[encoded data removed]",
            "text/plain": [
              "<Figure size 864x576 with 6 Axes>"
            ]
          },
          "metadata": {
            "tags": [],
            "needs_background": "light"
          }
        },
        {
          "output_type": "display_data",
          "data": {
            "text/plain": [
              "<Figure size 432x288 with 0 Axes>"
            ]
          },
          "metadata": {
            "tags": []
          }
        }
      ]
    },
    {
      "cell_type": "markdown",
      "metadata": {
        "id": "b_g329VqX1Zg",
        "colab_type": "text"
      },
      "source": [
        "Age of the customer is not a defining factor if the person will accept a personal loan or not.\n",
        "\n",
        "Professional years of experience also not a governing factor.\n",
        "\n",
        "As we saw in the previous graph, a family of 3 or 4 are more likely to take Loan.\n",
        "\n",
        "As expected, higher the income more is the chance that a person will accept a personal loan.\n",
        "\n",
        "If one's credit card average spending per month is higher, they will probably accept a personal loan offer.\n",
        "\n",
        "Higher mortgage means a customer might accept a personal loan offer."
      ]
    },
    {
      "cell_type": "markdown",
      "metadata": {
        "id": "7JTwYmFLlyoe",
        "colab_type": "text"
      },
      "source": [
        "# Heatmap "
      ]
    },
    {
      "cell_type": "code",
      "metadata": {
        "id": "S5jG9ssjLpyB",
        "colab_type": "code",
        "colab": {
          "base_uri": "https://localhost:8080/",
          "height": 528
        },
        "outputId": "b0d667d8-34df-43b5-ff02-25482a074b80"
      },
      "source": [
        "import matplotlib.pyplot as plt\n",
        "import seaborn as sns\n",
        "corr = df1.corr()\n",
        "sns.set_context(\"notebook\", font_scale=1.0, rc={\"lines.linewidth\": 2.5})\n",
        "plt.figure(figsize=(13,7))\n",
        "# create a mask so we only see the correlation values once\n",
        "mask = np.zeros_like(corr)\n",
        "mask[np.triu_indices_from(mask, 1)] = True\n",
        "a = sns.heatmap(corr,mask=mask, annot=True, fmt='.2f')\n",
        "rotx = a.set_xticklabels(a.get_xticklabels(), rotation=90)\n",
        "roty = a.set_yticklabels(a.get_yticklabels(), rotation=30)"
      ],
      "execution_count": null,
      "outputs": [
        {
          "output_type": "display_data",
          "data": {
            "image/png": "[encoded data removed]",
            "text/plain": [
              "<Figure size 936x504 with 2 Axes>"
            ]
          },
          "metadata": {
            "tags": [],
            "needs_background": "light"
          }
        }
      ]
    },
    {
      "cell_type": "markdown",
      "metadata": {
        "id": "M8dQ9N3bly2r",
        "colab_type": "text"
      },
      "source": [
        "Age and Experience are highly correlated\n",
        "\n",
        "Income and CCAvg are moderately correlated\n",
        "\n",
        "Personal loan and Income are also positively correlated.\n",
        "\n"
      ]
    },
    {
      "cell_type": "markdown",
      "metadata": {
        "id": "duqcA6XQBebk",
        "colab_type": "text"
      },
      "source": [
        "# Target column distribution\n",
        "Our target variable is Personal Loan"
      ]
    },
    {
      "cell_type": "code",
      "metadata": {
        "id": "a6FoQv1HaSw6",
        "colab_type": "code",
        "colab": {
          "base_uri": "https://localhost:8080/",
          "height": 67
        },
        "outputId": "72de02ef-3c5c-4a7e-b3b8-ab1908f20e03"
      },
      "source": [
        "df1[\"Personal Loan\"].value_counts()"
      ],
      "execution_count": null,
      "outputs": [
        {
          "output_type": "execute_result",
          "data": {
            "text/plain": [
              "0    4409\n",
              "1     473\n",
              "Name: Personal Loan, dtype: int64"
            ]
          },
          "metadata": {
            "tags": []
          },
          "execution_count": 20
        }
      ]
    },
    {
      "cell_type": "code",
      "metadata": {
        "id": "qNJ64W193WYq",
        "colab_type": "code",
        "colab": {
          "base_uri": "https://localhost:8080/",
          "height": 279
        },
        "outputId": "13493ea1-38db-4f37-ee71-97cebf98bdaa"
      },
      "source": [
        "ax = sns.countplot(data=df1,x='Personal Loan')\n",
        "a = df1[\"Personal Loan\"]\n",
        "ncount = len(a)\n",
        "for p in ax.patches:\n",
        "    x=p.get_bbox().get_points()[:,0]\n",
        "    y=p.get_bbox().get_points()[1,1]\n",
        "    ax.annotate('{:.1f}%'.format(100.*y/ncount), (x.mean(), y), \n",
        "            ha='center', va='bottom')\n",
        "\n",
        "plt.show()"
      ],
      "execution_count": null,
      "outputs": [
        {
          "output_type": "display_data",
          "data": {
            "image/png": "[encoded data removed]",
            "text/plain": [
              "<Figure size 432x288 with 1 Axes>"
            ]
          },
          "metadata": {
            "tags": [],
            "needs_background": "light"
          }
        }
      ]
    },
    {
      "cell_type": "markdown",
      "metadata": {
        "id": "O4KWC1ViaHzM",
        "colab_type": "text"
      },
      "source": [
        "As we can see, that only 473 (i.e.) 9% of customers have personal loan."
      ]
    },
    {
      "cell_type": "markdown",
      "metadata": {
        "id": "f7tkSzomWj3w",
        "colab_type": "text"
      },
      "source": [
        "# Splitting the data into train and test"
      ]
    },
    {
      "cell_type": "markdown",
      "metadata": {
        "id": "XFDjhd02e3bJ",
        "colab_type": "text"
      },
      "source": [
        "The variables ID and ZIP Code does not add any interesting information. There is no association between a person's customer ID, ZIP Code and loan, also it does not provide any general conclusion for future potential loan customers. We can neglect this information for our model prediction."
      ]
    },
    {
      "cell_type": "code",
      "metadata": {
        "id": "5-eLkeAsWnBc",
        "colab_type": "code",
        "colab": {
          "base_uri": "https://localhost:8080/",
          "height": 50
        },
        "outputId": "f68db358-6fe1-49bb-c292-4fedbf18910a"
      },
      "source": [
        "from sklearn.model_selection import train_test_split\n",
        "\n",
        "X = df1.drop([\"ZIP Code\", \"ID\", \"Personal Loan\"] , axis = 1)\n",
        "y=df1[['Personal Loan']]\n",
        "\n",
        "X_train, X_test, y_train, y_test = train_test_split(X, y, test_size=0.3, random_state = 100)\n",
        "\n",
        "print (X_train.shape, y_train.shape)\n",
        "print (X_test.shape, y_test.shape)"
      ],
      "execution_count": null,
      "outputs": [
        {
          "output_type": "stream",
          "text": [
            "(3417, 11) (3417, 1)\n",
            "(1465, 11) (1465, 1)\n"
          ],
          "name": "stdout"
        }
      ]
    },
    {
      "cell_type": "markdown",
      "metadata": {
        "id": "6vcsZsDaUxXW",
        "colab_type": "text"
      },
      "source": [
        "# Classification Models"
      ]
    },
    {
      "cell_type": "markdown",
      "metadata": {
        "id": "sH3aFe9qpo-D",
        "colab_type": "text"
      },
      "source": [
        "**Logistic Regression**"
      ]
    },
    {
      "cell_type": "code",
      "metadata": {
        "id": "eoE6apk9lrrW",
        "colab_type": "code",
        "colab": {
          "base_uri": "https://localhost:8080/",
          "height": 185
        },
        "outputId": "1ef6071d-a930-4f4f-9fe0-661e7f83b469"
      },
      "source": [
        "# Logistic Regression\n",
        "from sklearn.linear_model import LogisticRegression\n",
        "from sklearn.metrics import accuracy_score\n",
        "from sklearn.metrics import classification_report\n",
        "\n",
        "logreg = LogisticRegression()\n",
        "logreg.fit(X_train, y_train)\n",
        "y_pred = logreg.predict(X_test)\n",
        "print(classification_report(y_test,y_pred))\n",
        "print(accuracy_score(y_test,y_pred))"
      ],
      "execution_count": null,
      "outputs": [
        {
          "output_type": "stream",
          "text": [
            "              precision    recall  f1-score   support\n",
            "\n",
            "           0       0.96      0.99      0.97      1334\n",
            "           1       0.80      0.63      0.70       131\n",
            "\n",
            "    accuracy                           0.95      1465\n",
            "   macro avg       0.88      0.81      0.84      1465\n",
            "weighted avg       0.95      0.95      0.95      1465\n",
            "\n",
            "0.952901023890785\n"
          ],
          "name": "stdout"
        }
      ]
    },
    {
      "cell_type": "code",
      "metadata": {
        "id": "1wdNsJjP4KtI",
        "colab_type": "code",
        "colab": {
          "base_uri": "https://localhost:8080/",
          "height": 134
        },
        "outputId": "54becec8-7967-4d64-e404-3240511a9bbd"
      },
      "source": [
        "from sklearn.metrics import roc_curve, auc\n",
        "from sklearn.metrics import accuracy_score, confusion_matrix, recall_score, precision_score, f1_score, auc\n",
        "logreg.predict_proba(X_train)"
      ],
      "execution_count": null,
      "outputs": [
        {
          "output_type": "execute_result",
          "data": {
            "text/plain": [
              "array([[9.72574023e-01, 2.74259775e-02],\n",
              "       [9.99593509e-01, 4.06490911e-04],\n",
              "       [9.99253896e-01, 7.46103847e-04],\n",
              "       ...,\n",
              "       [7.72666594e-01, 2.27333406e-01],\n",
              "       [9.99819692e-01, 1.80307529e-04],\n",
              "       [9.73339180e-01, 2.66608198e-02]])"
            ]
          },
          "metadata": {
            "tags": []
          },
          "execution_count": 144
        }
      ]
    },
    {
      "cell_type": "code",
      "metadata": {
        "id": "7_uH2Bha47dw",
        "colab_type": "code",
        "colab": {
          "base_uri": "https://localhost:8080/",
          "height": 34
        },
        "outputId": "b7c25f6a-b529-45a1-d351-6906fb2cdd88"
      },
      "source": [
        "y_predictProb = logreg.predict_proba(X_train)\n",
        "fpr, tpr, thresholds = roc_curve(y_train, y_predictProb[::,1])\n",
        "roc_auc = auc(fpr, tpr)\n",
        "print(\"Area under the ROC curve is = \" ,roc_auc)"
      ],
      "execution_count": null,
      "outputs": [
        {
          "output_type": "stream",
          "text": [
            "Area under the ROC curve is =  0.9533086102790852\n"
          ],
          "name": "stdout"
        }
      ]
    },
    {
      "cell_type": "code",
      "metadata": {
        "id": "ESO9rYBe5HFZ",
        "colab_type": "code",
        "colab": {
          "base_uri": "https://localhost:8080/",
          "height": 295
        },
        "outputId": "18bf34c4-21ac-43a3-9c39-d371422dc2db"
      },
      "source": [
        "# Plotting the Area under ROC curve\n",
        "plt.plot(fpr, tpr, color='darkorange', label='ROC curve (area = %0.2f)' % roc_auc)\n",
        "plt.plot([0, 1], [0, 1], color='navy', linestyle='--')\n",
        "plt.xlabel('False Positive Rate')\n",
        "plt.ylabel('True Positive Rate')\n",
        "plt.title('Receiver operating characteristic')\n",
        "plt.legend(loc=\"lower right\")\n",
        "plt.show()"
      ],
      "execution_count": null,
      "outputs": [
        {
          "output_type": "display_data",
          "data": {
            "image/png": "[encoded data removed]",
            "text/plain": [
              "<Figure size 432x288 with 1 Axes>"
            ]
          },
          "metadata": {
            "tags": [],
            "needs_background": "light"
          }
        }
      ]
    },
    {
      "cell_type": "markdown",
      "metadata": {
        "id": "hBIfSWhD9Bgi",
        "colab_type": "text"
      },
      "source": [
        "Here we have a classification report which consists of a precision, recall, f1-score & support, also the accuracy_score.\n",
        "\n",
        "But how to determine if our model has done well? \n",
        "\n",
        "* Well, first we look at the accuracy which is 95% and it's not a small thing, but we know from the data that the number of buyer’s percentage to the non-buyer percentage is very less. \n",
        "\n",
        "* Hence accuracy didn’t play a big role in determining how our model performed."
      ]
    },
    {
      "cell_type": "markdown",
      "metadata": {
        "id": "DF1T542XJf88",
        "colab_type": "text"
      },
      "source": [
        "# Standardization\n",
        "\n",
        "Standardization is a transformation that centers the data by removing the mean value of each feature and then scale it by dividing (non-constant) features by their standard deviation.\n",
        "\n",
        "After standardizing data the mean will be zero and the standard deviation one.\n",
        "\n",
        "\n",
        "Data Z is rescaled such that μ = 0 and 𝛔 = 1, and is done through this **formula:**\n",
        "\n",
        "z=x-μ/𝛔"
      ]
    },
    {
      "cell_type": "code",
      "metadata": {
        "id": "AmueT9Al97BQ",
        "colab_type": "code",
        "colab": {}
      },
      "source": [
        "#from sklearn import preprocessing\n",
        "from sklearn.preprocessing import StandardScaler\n",
        "col_names = df1.columns\n",
        "scaler = preprocessing.StandardScaler()\n",
        "s_X_train = scaler.fit_transform(X_train)\n",
        "s_X_test = scaler.fit_transform(X_test)"
      ],
      "execution_count": null,
      "outputs": []
    },
    {
      "cell_type": "markdown",
      "metadata": {
        "id": "iuRGpn0-VoHk",
        "colab_type": "text"
      },
      "source": [
        "**Logistic Regresssion after Standardization**"
      ]
    },
    {
      "cell_type": "code",
      "metadata": {
        "id": "9OxqoaEuOOQK",
        "colab_type": "code",
        "colab": {
          "base_uri": "https://localhost:8080/",
          "height": 101
        },
        "outputId": "6105a0aa-4590-4205-fa3a-54de94386f2c"
      },
      "source": [
        "logreg = LogisticRegression()\n",
        "logreg.fit(s_X_train, y_train)"
      ],
      "execution_count": null,
      "outputs": [
        {
          "output_type": "execute_result",
          "data": {
            "text/plain": [
              "LogisticRegression(C=1.0, class_weight=None, dual=False, fit_intercept=True,\n",
              "                   intercept_scaling=1, l1_ratio=None, max_iter=100,\n",
              "                   multi_class='auto', n_jobs=None, penalty='l2',\n",
              "                   random_state=None, solver='lbfgs', tol=0.0001, verbose=0,\n",
              "                   warm_start=False)"
            ]
          },
          "metadata": {
            "tags": []
          },
          "execution_count": 147
        }
      ]
    },
    {
      "cell_type": "code",
      "metadata": {
        "id": "8frkrIGbPc23",
        "colab_type": "code",
        "colab": {
          "base_uri": "https://localhost:8080/",
          "height": 185
        },
        "outputId": "0251e124-3d24-4fd9-f75e-c64157ff9dbf"
      },
      "source": [
        "y_pred = logreg.predict(s_X_test)\n",
        "print(classification_report(y_test,y_pred))\n",
        "l = accuracy_score(y_test,y_pred)\n",
        "print(l)"
      ],
      "execution_count": null,
      "outputs": [
        {
          "output_type": "stream",
          "text": [
            "              precision    recall  f1-score   support\n",
            "\n",
            "           0       0.97      0.98      0.97      1334\n",
            "           1       0.76      0.68      0.72       131\n",
            "\n",
            "    accuracy                           0.95      1465\n",
            "   macro avg       0.86      0.83      0.85      1465\n",
            "weighted avg       0.95      0.95      0.95      1465\n",
            "\n",
            "0.9522184300341296\n"
          ],
          "name": "stdout"
        }
      ]
    },
    {
      "cell_type": "code",
      "metadata": {
        "id": "U2FIF_mcPm_u",
        "colab_type": "code",
        "colab": {
          "base_uri": "https://localhost:8080/",
          "height": 34
        },
        "outputId": "4492bec7-a205-41c3-97fd-4e03145f8f61"
      },
      "source": [
        "y_predictProb = logreg.predict_proba(s_X_test)\n",
        "fpr1, tpr1, thresholds = roc_curve(y_test, y_predictProb[::,1])\n",
        "roc_auc1 = auc(fpr1, tpr1)\n",
        "print(\"Area under the ROC curve is = \" ,roc_auc1)"
      ],
      "execution_count": null,
      "outputs": [
        {
          "output_type": "stream",
          "text": [
            "Area under the ROC curve is =  0.9629765270036738\n"
          ],
          "name": "stdout"
        }
      ]
    },
    {
      "cell_type": "markdown",
      "metadata": {
        "id": "5DhxVmcvRUdm",
        "colab_type": "text"
      },
      "source": [
        "We get the accuracy of 95% in both the cases.\n",
        "\n",
        "The area under the curve is around 96%.\n",
        "\n",
        "We get a recall value of 68%, which means our model did much better in predicting True Positives"
      ]
    },
    {
      "cell_type": "markdown",
      "metadata": {
        "id": "4iKnjcMikXTD",
        "colab_type": "text"
      },
      "source": [
        "**Naive Bayes**"
      ]
    },
    {
      "cell_type": "code",
      "metadata": {
        "id": "tvB3YozNS8kO",
        "colab_type": "code",
        "colab": {
          "base_uri": "https://localhost:8080/",
          "height": 185
        },
        "outputId": "8b6fda5f-f05b-4a12-f23e-53b6ade5a023"
      },
      "source": [
        "from sklearn.naive_bayes import GaussianNB\n",
        "model_naive = GaussianNB()\n",
        "model_naive.fit(s_X_train, y_train)\n",
        "y_pred = model_naive.predict(s_X_test)\n",
        "print(classification_report(y_test,y_pred))\n",
        "n = accuracy_score(y_test,y_pred)\n",
        "print(n)"
      ],
      "execution_count": null,
      "outputs": [
        {
          "output_type": "stream",
          "text": [
            "              precision    recall  f1-score   support\n",
            "\n",
            "           0       0.96      0.92      0.94      1334\n",
            "           1       0.44      0.62      0.52       131\n",
            "\n",
            "    accuracy                           0.90      1465\n",
            "   macro avg       0.70      0.77      0.73      1465\n",
            "weighted avg       0.91      0.90      0.90      1465\n",
            "\n",
            "0.8962457337883959\n"
          ],
          "name": "stdout"
        }
      ]
    },
    {
      "cell_type": "code",
      "metadata": {
        "id": "1u1kpkqwSqYc",
        "colab_type": "code",
        "colab": {
          "base_uri": "https://localhost:8080/",
          "height": 34
        },
        "outputId": "61479439-43c3-4d35-82b8-0bdaa5d92b61"
      },
      "source": [
        "y_predictProb = model_naive.predict_proba(s_X_test)\n",
        "fpr, tpr, thresholds = roc_curve(y_test, y_predictProb[::,1])\n",
        "roc_auc = auc(fpr, tpr)\n",
        "print(\"Area under the ROC curve is = \" ,roc_auc)"
      ],
      "execution_count": null,
      "outputs": [
        {
          "output_type": "stream",
          "text": [
            "Area under the ROC curve is =  0.9312862652643144\n"
          ],
          "name": "stdout"
        }
      ]
    },
    {
      "cell_type": "markdown",
      "metadata": {
        "id": "LxSfUkQJkki6",
        "colab_type": "text"
      },
      "source": [
        "We got an accuracy score of around 90% with a recall value of 62% which is much less as compared to the Logistic Regression.\n",
        "\n",
        "Also, the area under the curve is around 93%, less than the logistic regression one.\n",
        "\n",
        "Hence Naive Bayes terms out to be not a good classifier with this particular dataset."
      ]
    },
    {
      "cell_type": "markdown",
      "metadata": {
        "id": "SsylMXfF0T7Z",
        "colab_type": "text"
      },
      "source": [
        "**K-Nearest Neighbour**\n"
      ]
    },
    {
      "cell_type": "code",
      "metadata": {
        "id": "I8oIK6vOtzho",
        "colab_type": "code",
        "colab": {
          "base_uri": "https://localhost:8080/",
          "height": 185
        },
        "outputId": "c9911575-fb45-49de-efa2-308f48f666cc"
      },
      "source": [
        "from sklearn.neighbors import KNeighborsClassifier\n",
        "knn = KNeighborsClassifier()\n",
        "knn.fit(s_X_train, y_train)\n",
        "y_pred = knn.predict(s_X_test)\n",
        "print(classification_report(y_test,y_pred))\n",
        "k = accuracy_score(y_test,y_pred)\n",
        "print(k)"
      ],
      "execution_count": null,
      "outputs": [
        {
          "output_type": "stream",
          "text": [
            "              precision    recall  f1-score   support\n",
            "\n",
            "           0       0.97      1.00      0.98      1334\n",
            "           1       0.93      0.65      0.77       131\n",
            "\n",
            "    accuracy                           0.96      1465\n",
            "   macro avg       0.95      0.82      0.87      1465\n",
            "weighted avg       0.96      0.96      0.96      1465\n",
            "\n",
            "0.9645051194539249\n"
          ],
          "name": "stdout"
        }
      ]
    },
    {
      "cell_type": "code",
      "metadata": {
        "id": "IHHXVzLYWXzz",
        "colab_type": "code",
        "colab": {
          "base_uri": "https://localhost:8080/",
          "height": 34
        },
        "outputId": "5027a598-b144-4226-edb2-af388df9bdd4"
      },
      "source": [
        "y_predictProb = knn.predict_proba(s_X_test)\n",
        "fpr, tpr, thresholds = roc_curve(y_test, y_predictProb[::,1])\n",
        "roc_auc = auc(fpr, tpr)\n",
        "print(\"Area under the ROC curve is = \" ,roc_auc)"
      ],
      "execution_count": null,
      "outputs": [
        {
          "output_type": "stream",
          "text": [
            "Area under the ROC curve is =  0.9446335992309188\n"
          ],
          "name": "stdout"
        }
      ]
    },
    {
      "cell_type": "markdown",
      "metadata": {
        "id": "g9UlnWbAlVQ4",
        "colab_type": "text"
      },
      "source": [
        "We got 96% accuracy in determining if a customer will buy personal loan or not.\n",
        "\n",
        "Also the reacll value is 65% and Area under the Curve is 94%."
      ]
    },
    {
      "cell_type": "markdown",
      "metadata": {
        "id": "xn-b_-bmp1BU",
        "colab_type": "text"
      },
      "source": [
        "**Decision Tree**"
      ]
    },
    {
      "cell_type": "code",
      "metadata": {
        "id": "lUAU1YCQaoMK",
        "colab_type": "code",
        "colab": {
          "base_uri": "https://localhost:8080/",
          "height": 185
        },
        "outputId": "51f5a71e-7241-45f5-d74e-b20b74cca22f"
      },
      "source": [
        "from sklearn.tree import DecisionTreeClassifier\n",
        "d_model=DecisionTreeClassifier(criterion = 'gini',max_depth=3,random_state=1)\n",
        "d_model.fit(s_X_train,y_train)\n",
        "y_pred = d_model.predict(s_X_test)\n",
        "print(classification_report(y_test,y_pred))\n",
        "d = accuracy_score(y_test,y_pred)\n",
        "print(d)"
      ],
      "execution_count": null,
      "outputs": [
        {
          "output_type": "stream",
          "text": [
            "              precision    recall  f1-score   support\n",
            "\n",
            "           0       0.99      1.00      0.99      1334\n",
            "           1       0.97      0.89      0.93       131\n",
            "\n",
            "    accuracy                           0.99      1465\n",
            "   macro avg       0.98      0.95      0.96      1465\n",
            "weighted avg       0.99      0.99      0.99      1465\n",
            "\n",
            "0.9877133105802047\n"
          ],
          "name": "stdout"
        }
      ]
    },
    {
      "cell_type": "code",
      "metadata": {
        "id": "Tv3FMyNWbLgy",
        "colab_type": "code",
        "colab": {
          "base_uri": "https://localhost:8080/",
          "height": 34
        },
        "outputId": "b9978be7-a1bc-4ea4-f211-68f51768f6e9"
      },
      "source": [
        "y_predictProb = d_model.predict_proba(s_X_test)\n",
        "fpr, tpr, thresholds = roc_curve(y_test, y_predictProb[:,1])\n",
        "roc_auc = auc(fpr, tpr)\n",
        "print(\"Area under the ROC curve is = \" ,roc_auc)"
      ],
      "execution_count": null,
      "outputs": [
        {
          "output_type": "stream",
          "text": [
            "Area under the ROC curve is =  0.9965408517115488\n"
          ],
          "name": "stdout"
        }
      ]
    },
    {
      "cell_type": "markdown",
      "metadata": {
        "id": "C-ekqtPbfT1k",
        "colab_type": "text"
      },
      "source": [
        "We got a approx 99% accuracy score while 89% recall value .\n",
        "\n",
        "Area under the curve is around 99%."
      ]
    },
    {
      "cell_type": "markdown",
      "metadata": {
        "id": "xE0PL6lNpw9W",
        "colab_type": "text"
      },
      "source": [
        "**Random Forrest**"
      ]
    },
    {
      "cell_type": "code",
      "metadata": {
        "id": "TYPefJYDoVTa",
        "colab_type": "code",
        "colab": {
          "base_uri": "https://localhost:8080/",
          "height": 202
        },
        "outputId": "f5ac7d35-8c6f-4422-e79a-7a04e2dc60e5"
      },
      "source": [
        "from sklearn.ensemble import RandomForestClassifier\n",
        "randomforest_model = RandomForestClassifier(criterion='gini', n_estimators=150 ,max_depth=3, max_features = None, oob_score=True)\n",
        "randomforest_model.fit(s_X_train,y_train) \n",
        "print(\"The out of bag score is\", randomforest_model.oob_score_)\n",
        "y_pred = randomforest_model.predict(s_X_test)\n",
        "print(classification_report(y_test,y_pred))\n",
        "r = accuracy_score(y_test,y_pred)\n",
        "print(r)"
      ],
      "execution_count": null,
      "outputs": [
        {
          "output_type": "stream",
          "text": [
            "The out of bag score is 0.9786362306116476\n",
            "              precision    recall  f1-score   support\n",
            "\n",
            "           0       0.99      1.00      0.99      1334\n",
            "           1       0.97      0.89      0.93       131\n",
            "\n",
            "    accuracy                           0.99      1465\n",
            "   macro avg       0.98      0.95      0.96      1465\n",
            "weighted avg       0.99      0.99      0.99      1465\n",
            "\n",
            "0.9883959044368601\n"
          ],
          "name": "stdout"
        }
      ]
    },
    {
      "cell_type": "code",
      "metadata": {
        "id": "g8dnVDpzjMPG",
        "colab_type": "code",
        "colab": {
          "base_uri": "https://localhost:8080/",
          "height": 34
        },
        "outputId": "b5b8ed35-e4f7-4955-f30e-355d0497c744"
      },
      "source": [
        "y_predictProb = randomforest_model.predict_proba(s_X_test)\n",
        "fpr, tpr, thresholds = roc_curve(y_test, y_predictProb[:,1])\n",
        "roc_auc = auc(fpr, tpr)\n",
        "print(\"Area under the ROC curve is = \" ,roc_auc)"
      ],
      "execution_count": null,
      "outputs": [
        {
          "output_type": "stream",
          "text": [
            "Area under the ROC curve is =  0.9977597079322934\n"
          ],
          "name": "stdout"
        }
      ]
    },
    {
      "cell_type": "markdown",
      "metadata": {
        "id": "43EECZaAjqSz",
        "colab_type": "text"
      },
      "source": [
        "We got Accuracy around 99% with recall as 89% and auc as 99% which is same as decision tree."
      ]
    },
    {
      "cell_type": "markdown",
      "metadata": {
        "id": "L3jAxYG_KGwW",
        "colab_type": "text"
      },
      "source": [
        "# Confusion Matrix for all the models"
      ]
    },
    {
      "cell_type": "code",
      "metadata": {
        "id": "7HIi45fKKJ9n",
        "colab_type": "code",
        "colab": {
          "base_uri": "https://localhost:8080/",
          "height": 353
        },
        "outputId": "27abf381-08fa-481b-e05a-1cb61e18879c"
      },
      "source": [
        "from sklearn import metrics\n",
        "\n",
        "Logistic_pred = logreg.predict(s_X_test)\n",
        "Logistic = metrics.confusion_matrix(Logistic_pred, y_test)\n",
        "\n",
        "RF = metrics.confusion_matrix(y_test, randomforest_model.predict(s_X_test))\n",
        "\n",
        "dt_pred = d_model.predict(s_X_test)\n",
        "DT = metrics.confusion_matrix(dt_pred, y_test)\n",
        "\n",
        "KNN = metrics.confusion_matrix(y_test, knn.predict(s_X_test))\n",
        "\n",
        "Naive_pred = model_naive.predict(s_X_test)\n",
        "Naive = metrics.confusion_matrix(Naive_pred, y_test)\n",
        "\n",
        "print(\"Confusion matrix for Logistic Regression = \\n\", Logistic,\"\\n\")\n",
        "print(\"Confusion matrix for Naive Bayes = \\n\", Naive,\"\\n\")\n",
        "print(\"Confusion matrix for K Nearest Neighbour = \\n\", KNN, \"\\n\")\n",
        "print(\"Confusion matrix for Decision Tree = \\n\", DT,\"\\n\")\n",
        "print(\"Confusion matrix for Random Forest = \\n\", RF , \"\\n\")"
      ],
      "execution_count": null,
      "outputs": [
        {
          "output_type": "stream",
          "text": [
            "Confusion matrix for Logistic Regression = \n",
            " [[1306   42]\n",
            " [  28   89]] \n",
            "\n",
            "Confusion matrix for Naive Bayes = \n",
            " [[1232   50]\n",
            " [ 102   81]] \n",
            "\n",
            "Confusion matrix for K Nearest Neighbour = \n",
            " [[1328    6]\n",
            " [  46   85]] \n",
            "\n",
            "Confusion matrix for Decision Tree = \n",
            " [[1279    1]\n",
            " [  55  130]] \n",
            "\n",
            "Confusion matrix for Random Forest = \n",
            " [[1331    3]\n",
            " [  14  117]] \n",
            "\n"
          ],
          "name": "stdout"
        }
      ]
    },
    {
      "cell_type": "code",
      "metadata": {
        "id": "w7Z2QKBcpF4n",
        "colab_type": "code",
        "colab": {
          "base_uri": "https://localhost:8080/",
          "height": 239
        },
        "outputId": "0607f65f-18f9-48cf-9051-7bc1ef9db1de"
      },
      "source": [
        "#Confusion matrix usin heatmap\n",
        "plt.subplots(figsize = (5,3))\n",
        "sns.heatmap(metrics.confusion_matrix(Logistic_pred, y_test), annot = True,fmt ='g')\n",
        "plt.title(\"Confusion Matrix for Logistic Regression\", fontsize = 10,loc = 'center', pad = 20)\n",
        "plt.show()"
      ],
      "execution_count": null,
      "outputs": [
        {
          "output_type": "display_data",
          "data": {
            "image/png": "[encoded data removed]",
            "text/plain": [
              "<Figure size 360x216 with 2 Axes>"
            ]
          },
          "metadata": {
            "tags": [],
            "needs_background": "light"
          }
        }
      ]
    },
    {
      "cell_type": "markdown",
      "metadata": {
        "id": "JbpGjkvRJ58V",
        "colab_type": "text"
      },
      "source": [
        "# Comparison among the above models"
      ]
    },
    {
      "cell_type": "code",
      "metadata": {
        "id": "1qoV0rY1CTgJ",
        "colab_type": "code",
        "colab": {
          "base_uri": "https://localhost:8080/",
          "height": 195
        },
        "outputId": "bc029e07-7bb8-4892-c1c4-cd1316e1cdcf"
      },
      "source": [
        "results = pd.DataFrame({\n",
        "    'Model': ['Logistic Regression', 'Naive Bayes' , 'KNN' ,'Decision Tree', 'Random Forest'],\n",
        "    'Score': [l,n,k,d,r]})\n",
        "result_df = results.sort_values(by='Score', ascending=False)\n",
        "result_df.head()"
      ],
      "execution_count": null,
      "outputs": [
        {
          "output_type": "execute_result",
          "data": {
            "text/html": [
              "<div>\n",
              "<style scoped>\n",
              "    .dataframe tbody tr th:only-of-type {\n",
              "        vertical-align: middle;\n",
              "    }\n",
              "\n",
              "    .dataframe tbody tr th {\n",
              "        vertical-align: top;\n",
              "    }\n",
              "\n",
              "    .dataframe thead th {\n",
              "        text-align: right;\n",
              "    }\n",
              "</style>\n",
              "<table border=\"1\" class=\"dataframe\">\n",
              "  <thead>\n",
              "    <tr style=\"text-align: right;\">\n",
              "      <th></th>\n",
              "      <th>Model</th>\n",
              "      <th>Score</th>\n",
              "    </tr>\n",
              "  </thead>\n",
              "  <tbody>\n",
              "    <tr>\n",
              "      <th>4</th>\n",
              "      <td>Random Forest</td>\n",
              "      <td>0.988396</td>\n",
              "    </tr>\n",
              "    <tr>\n",
              "      <th>3</th>\n",
              "      <td>Decision Tree</td>\n",
              "      <td>0.987713</td>\n",
              "    </tr>\n",
              "    <tr>\n",
              "      <th>2</th>\n",
              "      <td>KNN</td>\n",
              "      <td>0.964505</td>\n",
              "    </tr>\n",
              "    <tr>\n",
              "      <th>0</th>\n",
              "      <td>Logistic Regression</td>\n",
              "      <td>0.952218</td>\n",
              "    </tr>\n",
              "    <tr>\n",
              "      <th>1</th>\n",
              "      <td>Naive Bayes</td>\n",
              "      <td>0.896246</td>\n",
              "    </tr>\n",
              "  </tbody>\n",
              "</table>\n",
              "</div>"
            ],
            "text/plain": [
              "                 Model     Score\n",
              "4        Random Forest  0.988396\n",
              "3        Decision Tree  0.987713\n",
              "2                  KNN  0.964505\n",
              "0  Logistic Regression  0.952218\n",
              "1          Naive Bayes  0.896246"
            ]
          },
          "metadata": {
            "tags": []
          },
          "execution_count": 209
        }
      ]
    },
    {
      "cell_type": "markdown",
      "metadata": {
        "id": "t0eZS4zDp8hm",
        "colab_type": "text"
      },
      "source": [
        "We can see tha Random Forest has performed better.\n",
        "Let's check it's important features.."
      ]
    },
    {
      "cell_type": "markdown",
      "metadata": {
        "id": "NLD6JO6HJ_Hv",
        "colab_type": "text"
      },
      "source": [
        "#Feature Importance\n"
      ]
    },
    {
      "cell_type": "code",
      "metadata": {
        "id": "lUPFFIXIVGAP",
        "colab_type": "code",
        "colab": {
          "base_uri": "https://localhost:8080/",
          "height": 265
        },
        "outputId": "73d5e9a5-6e80-445c-b134-9d01f7ad9d4b"
      },
      "source": [
        "Importance = pd.DataFrame({'Importance':randomforest_model.feature_importances_*100}, index=X_train.columns)\n",
        "Importance.sort_values('Importance', axis=0, ascending=True).plot(kind='barh', color='r',alpha = 0.5 )\n",
        "plt.show()"
      ],
      "execution_count": null,
      "outputs": [
        {
          "output_type": "display_data",
          "data": {
            "image/png": "[encoded data removed]",
            "text/plain": [
              "<Figure size 432x288 with 1 Axes>"
            ]
          },
          "metadata": {
            "tags": [],
            "needs_background": "light"
          }
        }
      ]
    },
    {
      "cell_type": "code",
      "metadata": {
        "id": "cViv0hGcEPTX",
        "colab_type": "code",
        "colab": {}
      },
      "source": [
        "labeles=df1['Personal Loan']\n",
        "features=df1[['Education', 'Income', 'Family', 'CCAvg','CD Account']]\n",
        "from sklearn.model_selection import train_test_split\n",
        "X_train, X_test, y_train, y_test = train_test_split(features, labeles, test_size=0.3,random_state=5 )"
      ],
      "execution_count": null,
      "outputs": []
    },
    {
      "cell_type": "code",
      "metadata": {
        "id": "Y6Y1q00uo9fW",
        "colab_type": "code",
        "colab": {}
      },
      "source": [
        "col_names = df1.columns\n",
        "scaler = preprocessing.StandardScaler()\n",
        "s_X_train = scaler.fit_transform(X_train)\n",
        "s_X_test = scaler.fit_transform(X_test)"
      ],
      "execution_count": null,
      "outputs": []
    },
    {
      "cell_type": "code",
      "metadata": {
        "id": "Mapv1JZNEuqn",
        "colab_type": "code",
        "colab": {
          "base_uri": "https://localhost:8080/",
          "height": 202
        },
        "outputId": "ba911c6f-0ef0-42b6-f2b4-a68b4399b257"
      },
      "source": [
        "randomforest_model = RandomForestClassifier(criterion='gini', n_estimators=150 ,max_depth=3, max_features = None, oob_score=True)\n",
        "randomforest_model.fit(s_X_train,y_train) \n",
        "print(\"The out of bag score is\", randomforest_model.oob_score_)\n",
        "y_pred = randomforest_model.predict(s_X_test)\n",
        "print(classification_report(y_test,y_pred))\n",
        "r = accuracy_score(y_test,y_pred)\n",
        "print(r)"
      ],
      "execution_count": null,
      "outputs": [
        {
          "output_type": "stream",
          "text": [
            "The out of bag score is 0.9815627743634767\n",
            "              precision    recall  f1-score   support\n",
            "\n",
            "           0       0.99      1.00      0.99      1319\n",
            "           1       0.98      0.86      0.92       146\n",
            "\n",
            "    accuracy                           0.98      1465\n",
            "   macro avg       0.98      0.93      0.95      1465\n",
            "weighted avg       0.98      0.98      0.98      1465\n",
            "\n",
            "0.9843003412969283\n"
          ],
          "name": "stdout"
        }
      ]
    },
    {
      "cell_type": "markdown",
      "metadata": {
        "id": "8LaInGjBqCP7",
        "colab_type": "text"
      },
      "source": [
        "# K-fold Validation"
      ]
    },
    {
      "cell_type": "markdown",
      "metadata": {
        "id": "RQwwMzcIZhge",
        "colab_type": "text"
      },
      "source": [
        "We are going to use a k-fold validation to evaluate each algorithm.\n",
        "\n",
        "We’ll use a 10-fold cross validation."
      ]
    },
    {
      "cell_type": "code",
      "metadata": {
        "id": "xRuVgmFkYAD0",
        "colab_type": "code",
        "colab": {
          "base_uri": "https://localhost:8080/",
          "height": 101
        },
        "outputId": "38b9f34e-9b84-4b83-afed-51e361e4ca12"
      },
      "source": [
        "from sklearn import model_selection\n",
        "models = []\n",
        "models.append(('LR', LogisticRegression()))\n",
        "models.append(('NB', GaussianNB()))\n",
        "models.append(('KNN', KNeighborsClassifier()))\n",
        "models.append(('CART', DecisionTreeClassifier()))\n",
        "models.append(('RF', RandomForestClassifier()))\n",
        "\n",
        "# evaluate each model in turn\n",
        "results = []\n",
        "names = []\n",
        "scoring = 'accuracy'\n",
        "for name, model in models:\n",
        "\tkfold = model_selection.KFold(n_splits=10, random_state=12345)\n",
        "\tcv_results = model_selection.cross_val_score(model, X, y, cv=kfold, scoring=scoring)\n",
        "\tresults.append(cv_results)\n",
        "\tnames.append(name)\n",
        "\tmsg = \"%s: Mean = %f STD = (%f)\" % (name, cv_results.mean(), cv_results.std())\n",
        "\tprint(msg)"
      ],
      "execution_count": null,
      "outputs": [
        {
          "output_type": "stream",
          "text": [
            "LR: Mean = 0.948382 STD = (0.007318)\n",
            "NB: Mean = 0.883452 STD = (0.010092)\n",
            "KNN: Mean = 0.911920 STD = (0.008889)\n",
            "CART: Mean = 0.984227 STD = (0.004854)\n",
            "RF: Mean = 0.988530 STD = (0.003199)\n"
          ],
          "name": "stdout"
        }
      ]
    },
    {
      "cell_type": "markdown",
      "metadata": {
        "id": "eartarjmZt4Z",
        "colab_type": "text"
      },
      "source": [
        "From the above, it looks like the Random Forest, Decision Tree and Logistic Regression methods are providing the best results (based on the ‘mean’ values)."
      ]
    },
    {
      "cell_type": "markdown",
      "metadata": {
        "id": "mmy6D2JlsYp_",
        "colab_type": "text"
      },
      "source": [
        "# Visualizing the best Model"
      ]
    },
    {
      "cell_type": "code",
      "metadata": {
        "id": "Pi5D3AdRFWe3",
        "colab_type": "code",
        "colab": {
          "base_uri": "https://localhost:8080/",
          "height": 294
        },
        "outputId": "f9cf6eff-1011-4a31-9f7f-702403535688"
      },
      "source": [
        "# boxplot algorithm comparison\n",
        "fig = plt.figure()\n",
        "fig.suptitle('Algorithm Comparison')\n",
        "ax = fig.add_subplot(111)\n",
        "plt.boxplot(results)\n",
        "ax.set_xticklabels(names)\n",
        "plt.show()"
      ],
      "execution_count": null,
      "outputs": [
        {
          "output_type": "display_data",
          "data": {
            "image/png": "[encoded data removed]",
            "text/plain": [
              "<Figure size 432x288 with 1 Axes>"
            ]
          },
          "metadata": {
            "tags": [],
            "needs_background": "light"
          }
        }
      ]
    },
    {
      "cell_type": "markdown",
      "metadata": {
        "id": "QC8nH5w2daNn",
        "colab_type": "text"
      },
      "source": [
        "From these results, we can see that Random forest is doing a better job.\n",
        "\n",
        "It's beacause of the following reasons: \n",
        "\n",
        "* Random Forest is capable of handling all the binary, categorical, and numerical features. \n",
        "\n",
        "* There is very little pre-processing that needs to be done. The data does not need to be rescaled or transformed.\n",
        "\n",
        "* Random forest improves on bagging because it decorrelates the trees with the introduction of splitting on a random subset of features. This means that at each split of the tree, the model considers only a small subset of features rather than all of the features of the model.\n",
        "\n",
        "* Each decision tree has a high variance, but low bias. But because we average all the trees in random forest, we are averaging the variance as well so that we have a low bias and moderate variance model.\n",
        "\n",
        "* Random forest handles outliers by essentially binning them.\n"
      ]
    }
  ]
}